{
 "cells": [
  {
   "cell_type": "markdown",
   "metadata": {},
   "source": [
    "\n",
    "\n",
    "---\n",
    "\n",
    "|Packages|Version|\n",
    "|---|---|\n",
    "|Numpy|1.19.5|\n",
    "|Pandas|1.1.5|\n",
    "|Tqdm|4.62.3|\n",
    "|Tensorflow-GPU|1.15|\n",
    "|Keras|2.2.4|\n",
    "\n",
    "\n",
    "\n"
   ]
  },
  {
   "cell_type": "code",
   "execution_count": 1,
   "metadata": {
    "colab": {
     "base_uri": "https://localhost:8080/",
     "height": 34
    },
    "colab_type": "code",
    "id": "mFDhNU0Cx8vc",
    "outputId": "5c356d38-e6c9-41a9-f6c9-9b7d6c9c65ac"
   },
   "outputs": [
    {
     "name": "stderr",
     "output_type": "stream",
     "text": [
      "Using TensorFlow backend.\n"
     ]
    }
   ],
   "source": [
    "\n",
    "import pandas as pd\n",
    "import numpy as np\n",
    "\n",
    "\n",
    "from keras.models import load_model,Input,Model\n",
    "from keras.layers import Dropout, Activation, GlobalAveragePooling2D\n",
    "from keras.layers import Conv2D, MaxPooling2D, BatchNormalization\n",
    "from keras.losses import categorical_crossentropy\n",
    "from keras.optimizers import Adam\n",
    "from keras.regularizers import l2, l1\n",
    "from keras.callbacks import ReduceLROnPlateau,EarlyStopping, ModelCheckpoint\n",
    "from keras.models import load_model\n",
    "\n",
    "from tqdm import tqdm"
   ]
  },
  {
   "cell_type": "code",
   "execution_count": 2,
   "metadata": {
    "colab": {},
    "colab_type": "code",
    "id": "TuikhZBpyn5K"
   },
   "outputs": [],
   "source": [
    "data = pd.read_csv('./fer2013.csv')"
   ]
  },
  {
   "cell_type": "code",
   "execution_count": 3,
   "metadata": {
    "colab": {
     "base_uri": "https://localhost:8080/",
     "height": 153
    },
    "colab_type": "code",
    "id": "CLCkmHbbyx0B",
    "outputId": "c1652fab-d62c-4488-b9d2-c2ec310efe48"
   },
   "outputs": [
    {
     "name": "stdout",
     "output_type": "stream",
     "text": [
      "<class 'pandas.core.frame.DataFrame'>\n",
      "Int64Index: 28709 entries, 0 to 28708\n",
      "Data columns (total 3 columns):\n",
      " #   Column   Non-Null Count  Dtype \n",
      "---  ------   --------------  ----- \n",
      " 0   emotion  28709 non-null  int64 \n",
      " 1   pixels   28709 non-null  object\n",
      " 2   Usage    28709 non-null  object\n",
      "dtypes: int64(1), object(2)\n",
      "memory usage: 897.2+ KB\n"
     ]
    }
   ],
   "source": [
    "data_training = data.loc[data['Usage']=='Training']\n",
    "data_training.info()"
   ]
  },
  {
   "cell_type": "code",
   "execution_count": 4,
   "metadata": {
    "colab": {
     "base_uri": "https://localhost:8080/",
     "height": 153
    },
    "colab_type": "code",
    "id": "yw7f5gt2y1HZ",
    "outputId": "d5511d51-45b9-4e21-f4b0-2161c7f10e5d"
   },
   "outputs": [
    {
     "name": "stdout",
     "output_type": "stream",
     "text": [
      "<class 'pandas.core.frame.DataFrame'>\n",
      "Int64Index: 3589 entries, 28709 to 32297\n",
      "Data columns (total 3 columns):\n",
      " #   Column   Non-Null Count  Dtype \n",
      "---  ------   --------------  ----- \n",
      " 0   emotion  3589 non-null   int64 \n",
      " 1   pixels   3589 non-null   object\n",
      " 2   Usage    3589 non-null   object\n",
      "dtypes: int64(1), object(2)\n",
      "memory usage: 112.2+ KB\n"
     ]
    }
   ],
   "source": [
    "data_validation = data.loc[data['Usage']=='PublicTest']\n",
    "data_validation.info()"
   ]
  },
  {
   "cell_type": "code",
   "execution_count": 5,
   "metadata": {
    "colab": {
     "base_uri": "https://localhost:8080/",
     "height": 153
    },
    "colab_type": "code",
    "id": "_iMiGG5czCcN",
    "outputId": "d047b963-8946-450a-b0bf-b1c08f4c76b5"
   },
   "outputs": [
    {
     "name": "stdout",
     "output_type": "stream",
     "text": [
      "<class 'pandas.core.frame.DataFrame'>\n",
      "Int64Index: 3589 entries, 32298 to 35886\n",
      "Data columns (total 3 columns):\n",
      " #   Column   Non-Null Count  Dtype \n",
      "---  ------   --------------  ----- \n",
      " 0   emotion  3589 non-null   int64 \n",
      " 1   pixels   3589 non-null   object\n",
      " 2   Usage    3589 non-null   object\n",
      "dtypes: int64(1), object(2)\n",
      "memory usage: 112.2+ KB\n"
     ]
    }
   ],
   "source": [
    "data_test = data.loc[data['Usage']=='PrivateTest']\n",
    "data_test.info()"
   ]
  },
  {
   "cell_type": "code",
   "execution_count": 6,
   "metadata": {
    "colab": {
     "base_uri": "https://localhost:8080/",
     "height": 122
    },
    "colab_type": "code",
    "id": "6wmtZrEEzF3E",
    "outputId": "4b23d159-01cd-4c00-9b70-074dd8a8731f"
   },
   "outputs": [
    {
     "name": "stderr",
     "output_type": "stream",
     "text": [
      "100%|██████████| 28709/28709 [00:20<00:00, 1386.29it/s]\n",
      "100%|██████████| 3589/3589 [00:02<00:00, 1392.62it/s]\n",
      "100%|██████████| 3589/3589 [00:02<00:00, 1402.91it/s]\n"
     ]
    }
   ],
   "source": [
    "w, h = 48, 48\n",
    "\n",
    "X_train, X_val, X_test = [],[],[]\n",
    "y_train, y_val, y_test = [],[],[]\n",
    "data_source = [data_training, data_validation, data_test]\n",
    "data_arrays = [X_train, X_val, X_test]\n",
    "label_arrays= [y_train, y_val, y_test]\n",
    "\n",
    "for i in range(0,len(data_source)):\n",
    "    pixels = data_source[i]['pixels'].tolist() \n",
    "    label_arrays[i] = pd.get_dummies(data_source[i]['emotion']).values\n",
    "    for image in tqdm(pixels):\n",
    "        face_image = [int(pixel) for pixel in image.split(' ')] \n",
    "        face_image = np.asarray(face_image).reshape(w, h) \n",
    "        face_image = face_image/ 255.0 \n",
    "        data_arrays[i].append(face_image)\n",
    "    "
   ]
  },
  {
   "cell_type": "code",
   "execution_count": 7,
   "metadata": {
    "colab": {},
    "colab_type": "code",
    "id": "7FCkcaZTzK1Z"
   },
   "outputs": [],
   "source": [
    "X_train, y_train = np.expand_dims(np.array(X_train),-1), np.array(label_arrays[0])\n",
    "X_val, y_val = np.expand_dims(np.array(X_val),-1), np.array(label_arrays[1])\n",
    "X_test, y_test = np.expand_dims(np.array(X_test),-1), np.array(label_arrays[2])"
   ]
  },
  {
   "cell_type": "code",
   "execution_count": 8,
   "metadata": {
    "colab": {
     "base_uri": "https://localhost:8080/",
     "height": 68
    },
    "colab_type": "code",
    "id": "1aB3I8vSzo4F",
    "outputId": "3317d1cd-df8a-4382-db4d-55e3beaf4e91"
   },
   "outputs": [
    {
     "name": "stdout",
     "output_type": "stream",
     "text": [
      " X_train_shape : (28709, 48, 48, 1) | y_train_shape : (28709, 7) \n",
      " X_val_shape : (3589, 48, 48, 1) | y_val_shape : (3589, 7) \n",
      " X_test_shape : (3589, 48, 48, 1) | y_test_shape : (3589, 7) \n"
     ]
    }
   ],
   "source": [
    "print(' X_train_shape : {} | y_train_shape : {} '.format(X_train.shape,y_train.shape))\n",
    "print(' X_val_shape : {} | y_val_shape : {} '.format(X_val.shape,y_val.shape))\n",
    "print(' X_test_shape : {} | y_test_shape : {} '.format(X_test.shape,y_test.shape))"
   ]
  },
  {
   "cell_type": "code",
   "execution_count": 9,
   "metadata": {
    "colab": {},
    "colab_type": "code",
    "id": "Sy3-Z-sSzrA4"
   },
   "outputs": [
    {
     "name": "stdout",
     "output_type": "stream",
     "text": [
      "WARNING:tensorflow:From C:\\Users\\nkben\\AppData\\Local\\Programs\\Python\\Python36\\lib\\site-packages\\keras\\backend\\tensorflow_backend.py:74: The name tf.get_default_graph is deprecated. Please use tf.compat.v1.get_default_graph instead.\n",
      "\n",
      "WARNING:tensorflow:From C:\\Users\\nkben\\AppData\\Local\\Programs\\Python\\Python36\\lib\\site-packages\\keras\\backend\\tensorflow_backend.py:517: The name tf.placeholder is deprecated. Please use tf.compat.v1.placeholder instead.\n",
      "\n"
     ]
    }
   ],
   "source": [
    "input_layer=X_train[0,:,:,:].shape\n",
    "input_layer = Input(shape=input_layer)"
   ]
  },
  {
   "cell_type": "code",
   "execution_count": 10,
   "metadata": {
    "colab": {},
    "colab_type": "code",
    "id": "giMW8-gxztuq"
   },
   "outputs": [],
   "source": [
    "def bloc_conv(input_layer,n_conv_layer,n_filter, k_size=3, batch_norm = True, maxpool = True, drop = True):\n",
    "    layer= Conv2D(n_filter, k_size, activation ='relu', padding='same')(input_layer)\n",
    "    for i in range(0,n_conv_layer-1):\n",
    "        layer= Conv2D(n_filter, k_size, activation ='relu', padding='same')(layer)\n",
    "    if batch_norm:\n",
    "        layer = BatchNormalization()(layer)\n",
    "    if maxpool :   \n",
    "        layer = MaxPooling2D(pool_size=(3, 3), strides = 2)(layer)\n",
    "    if drop :\n",
    "        layer = Dropout(0.5)(layer)\n",
    "    return layer"
   ]
  },
  {
   "cell_type": "markdown",
   "metadata": {
    "colab_type": "text",
    "id": "a6Y08nkp2G--"
   },
   "source": [
    "# Model A"
   ]
  },
  {
   "cell_type": "code",
   "execution_count": 11,
   "metadata": {
    "colab": {},
    "colab_type": "code",
    "id": "MOjpbjA6zv4j"
   },
   "outputs": [
    {
     "name": "stdout",
     "output_type": "stream",
     "text": [
      "WARNING:tensorflow:From C:\\Users\\nkben\\AppData\\Local\\Programs\\Python\\Python36\\lib\\site-packages\\keras\\backend\\tensorflow_backend.py:4138: The name tf.random_uniform is deprecated. Please use tf.random.uniform instead.\n",
      "\n",
      "WARNING:tensorflow:From C:\\Users\\nkben\\AppData\\Local\\Programs\\Python\\Python36\\lib\\site-packages\\keras\\backend\\tensorflow_backend.py:174: The name tf.get_default_session is deprecated. Please use tf.compat.v1.get_default_session instead.\n",
      "\n",
      "WARNING:tensorflow:From C:\\Users\\nkben\\AppData\\Local\\Programs\\Python\\Python36\\lib\\site-packages\\keras\\backend\\tensorflow_backend.py:181: The name tf.ConfigProto is deprecated. Please use tf.compat.v1.ConfigProto instead.\n",
      "\n",
      "WARNING:tensorflow:From C:\\Users\\nkben\\AppData\\Local\\Programs\\Python\\Python36\\lib\\site-packages\\keras\\backend\\tensorflow_backend.py:186: The name tf.Session is deprecated. Please use tf.compat.v1.Session instead.\n",
      "\n",
      "WARNING:tensorflow:From C:\\Users\\nkben\\AppData\\Local\\Programs\\Python\\Python36\\lib\\site-packages\\keras\\backend\\tensorflow_backend.py:190: The name tf.global_variables is deprecated. Please use tf.compat.v1.global_variables instead.\n",
      "\n",
      "WARNING:tensorflow:From C:\\Users\\nkben\\AppData\\Local\\Programs\\Python\\Python36\\lib\\site-packages\\keras\\backend\\tensorflow_backend.py:199: The name tf.is_variable_initialized is deprecated. Please use tf.compat.v1.is_variable_initialized instead.\n",
      "\n",
      "WARNING:tensorflow:From C:\\Users\\nkben\\AppData\\Local\\Programs\\Python\\Python36\\lib\\site-packages\\keras\\backend\\tensorflow_backend.py:206: The name tf.variables_initializer is deprecated. Please use tf.compat.v1.variables_initializer instead.\n",
      "\n",
      "WARNING:tensorflow:From C:\\Users\\nkben\\AppData\\Local\\Programs\\Python\\Python36\\lib\\site-packages\\keras\\backend\\tensorflow_backend.py:1834: The name tf.nn.fused_batch_norm is deprecated. Please use tf.compat.v1.nn.fused_batch_norm instead.\n",
      "\n",
      "WARNING:tensorflow:From C:\\Users\\nkben\\AppData\\Local\\Programs\\Python\\Python36\\lib\\site-packages\\keras\\backend\\tensorflow_backend.py:133: The name tf.placeholder_with_default is deprecated. Please use tf.compat.v1.placeholder_with_default instead.\n",
      "\n",
      "WARNING:tensorflow:From C:\\Users\\nkben\\AppData\\Local\\Programs\\Python\\Python36\\lib\\site-packages\\keras\\backend\\tensorflow_backend.py:3976: The name tf.nn.max_pool is deprecated. Please use tf.nn.max_pool2d instead.\n",
      "\n",
      "WARNING:tensorflow:From C:\\Users\\nkben\\AppData\\Local\\Programs\\Python\\Python36\\lib\\site-packages\\keras\\backend\\tensorflow_backend.py:3445: calling dropout (from tensorflow.python.ops.nn_ops) with keep_prob is deprecated and will be removed in a future version.\n",
      "Instructions for updating:\n",
      "Please use `rate` instead of `keep_prob`. Rate should be set to `rate = 1 - keep_prob`.\n"
     ]
    }
   ],
   "source": [
    "#Model A\n",
    "def model_A(input_layer):\n",
    "    A = bloc_conv(input_layer,n_conv_layer=3,n_filter=96,k_size=3)\n",
    "\n",
    "    A = bloc_conv(A,n_conv_layer=3,n_filter=192,k_size=3)\n",
    "\n",
    "    A = bloc_conv(A,n_conv_layer=1,n_filter=192,k_size=3,batch_norm = False,maxpool =False, drop =False) \n",
    "\n",
    "    A = bloc_conv(A,n_conv_layer=1,n_filter=192,k_size=1,batch_norm = False,maxpool =False, drop =False) \n",
    "\n",
    "    A = bloc_conv(A,n_conv_layer=1,n_filter=7,k_size=1,batch_norm = True,maxpool =False, drop =False) \n",
    "\n",
    "    A = GlobalAveragePooling2D()(A)\n",
    "\n",
    "    A = Activation(activation='softmax')(A)\n",
    "\n",
    "    A = Model(input_layer, A, name='MODEL_A')\n",
    "    \n",
    "    return A\n",
    "\n",
    "CNN_A = model_A(input_layer)\n"
   ]
  },
  {
   "cell_type": "code",
   "execution_count": 12,
   "metadata": {
    "colab": {
     "base_uri": "https://localhost:8080/",
     "height": 799
    },
    "colab_type": "code",
    "id": "lsgSdZmtzy0D",
    "outputId": "19b59e3e-3da4-417d-97b8-b318ab9ac69d"
   },
   "outputs": [
    {
     "name": "stdout",
     "output_type": "stream",
     "text": [
      "_________________________________________________________________\n",
      "Layer (type)                 Output Shape              Param #   \n",
      "=================================================================\n",
      "input_1 (InputLayer)         (None, 48, 48, 1)         0         \n",
      "_________________________________________________________________\n",
      "conv2d_1 (Conv2D)            (None, 48, 48, 96)        960       \n",
      "_________________________________________________________________\n",
      "conv2d_2 (Conv2D)            (None, 48, 48, 96)        83040     \n",
      "_________________________________________________________________\n",
      "conv2d_3 (Conv2D)            (None, 48, 48, 96)        83040     \n",
      "_________________________________________________________________\n",
      "batch_normalization_1 (Batch (None, 48, 48, 96)        384       \n",
      "_________________________________________________________________\n",
      "max_pooling2d_1 (MaxPooling2 (None, 23, 23, 96)        0         \n",
      "_________________________________________________________________\n",
      "dropout_1 (Dropout)          (None, 23, 23, 96)        0         \n",
      "_________________________________________________________________\n",
      "conv2d_4 (Conv2D)            (None, 23, 23, 192)       166080    \n",
      "_________________________________________________________________\n",
      "conv2d_5 (Conv2D)            (None, 23, 23, 192)       331968    \n",
      "_________________________________________________________________\n",
      "conv2d_6 (Conv2D)            (None, 23, 23, 192)       331968    \n",
      "_________________________________________________________________\n",
      "batch_normalization_2 (Batch (None, 23, 23, 192)       768       \n",
      "_________________________________________________________________\n",
      "max_pooling2d_2 (MaxPooling2 (None, 11, 11, 192)       0         \n",
      "_________________________________________________________________\n",
      "dropout_2 (Dropout)          (None, 11, 11, 192)       0         \n",
      "_________________________________________________________________\n",
      "conv2d_7 (Conv2D)            (None, 11, 11, 192)       331968    \n",
      "_________________________________________________________________\n",
      "conv2d_8 (Conv2D)            (None, 11, 11, 192)       37056     \n",
      "_________________________________________________________________\n",
      "conv2d_9 (Conv2D)            (None, 11, 11, 7)         1351      \n",
      "_________________________________________________________________\n",
      "batch_normalization_3 (Batch (None, 11, 11, 7)         28        \n",
      "_________________________________________________________________\n",
      "global_average_pooling2d_1 ( (None, 7)                 0         \n",
      "_________________________________________________________________\n",
      "activation_1 (Activation)    (None, 7)                 0         \n",
      "=================================================================\n",
      "Total params: 1,368,611\n",
      "Trainable params: 1,368,021\n",
      "Non-trainable params: 590\n",
      "_________________________________________________________________\n"
     ]
    }
   ],
   "source": [
    "CNN_A.summary()"
   ]
  },
  {
   "cell_type": "code",
   "execution_count": 13,
   "metadata": {
    "colab": {
     "base_uri": "https://localhost:8080/",
     "height": 54
    },
    "colab_type": "code",
    "id": "xiRlLSGSz1oy",
    "outputId": "c28fd389-a8d3-4300-d534-c8e07c4968b9"
   },
   "outputs": [
    {
     "name": "stdout",
     "output_type": "stream",
     "text": [
      "WARNING:tensorflow:From C:\\Users\\nkben\\AppData\\Local\\Programs\\Python\\Python36\\lib\\site-packages\\keras\\optimizers.py:790: The name tf.train.Optimizer is deprecated. Please use tf.compat.v1.train.Optimizer instead.\n",
      "\n",
      "WARNING:tensorflow:From C:\\Users\\nkben\\AppData\\Local\\Programs\\Python\\Python36\\lib\\site-packages\\keras\\backend\\tensorflow_backend.py:3295: The name tf.log is deprecated. Please use tf.math.log instead.\n",
      "\n"
     ]
    },
    {
     "data": {
      "text/plain": [
       "\" (to Train)\\nlr_reducer = ReduceLROnPlateau(monitor='val_loss', factor=0.9, patience=3, verbose=1)\\nearly_stopper = EarlyStopping(monitor='val_loss', min_delta=0, patience=8, verbose=1, mode='auto')\\ncheckpoint = ModelCheckpoint('./weights/best_modelA', monitor='val_loss', verbose=1, save_weights_only=True, save_best_only=True, mode='auto', period=1)\\nCNN_A.fit(X_train, y_train, batch_size=64, epochs=100, verbose=1, \\n                        shuffle=True,callbacks=[lr_reducer, early_stopper, checkpoint], \\n                        validation_data=(X_val,y_val))\\n\""
      ]
     },
     "execution_count": 13,
     "metadata": {},
     "output_type": "execute_result"
    }
   ],
   "source": [
    "CNN_A.compile(loss=categorical_crossentropy, optimizer=Adam(lr=0.001, beta_1=0.9, beta_2=0.999, epsilon=1e-7), metrics=['acc']) \n",
    "\n",
    "''' (to Train)\n",
    "lr_reducer = ReduceLROnPlateau(monitor='val_loss', factor=0.9, patience=3, verbose=1)\n",
    "early_stopper = EarlyStopping(monitor='val_loss', min_delta=0, patience=8, verbose=1, mode='auto')\n",
    "checkpoint = ModelCheckpoint('./weights/best_modelA', monitor='val_loss', verbose=1, save_weights_only=True, save_best_only=True, mode='auto', period=1)\n",
    "CNN_A.fit(X_train, y_train, batch_size=64, epochs=100, verbose=1, \n",
    "                        shuffle=True,callbacks=[lr_reducer, early_stopper, checkpoint], \n",
    "                        validation_data=(X_val,y_val))\n",
    "'''"
   ]
  },
  {
   "cell_type": "code",
   "execution_count": 14,
   "metadata": {
    "colab": {},
    "colab_type": "code",
    "id": "o7pgaikXz6KE"
   },
   "outputs": [
    {
     "name": "stdout",
     "output_type": "stream",
     "text": [
      "WARNING:tensorflow:From C:\\Users\\nkben\\AppData\\Local\\Programs\\Python\\Python36\\lib\\site-packages\\tensorflow_core\\python\\ops\\math_grad.py:1424: where (from tensorflow.python.ops.array_ops) is deprecated and will be removed in a future version.\n",
      "Instructions for updating:\n",
      "Use tf.where in 2.0, which has the same broadcast rule as np.where\n",
      "WARNING:tensorflow:From C:\\Users\\nkben\\AppData\\Local\\Programs\\Python\\Python36\\lib\\site-packages\\keras\\backend\\tensorflow_backend.py:986: The name tf.assign_add is deprecated. Please use tf.compat.v1.assign_add instead.\n",
      "\n",
      "WARNING:tensorflow:From C:\\Users\\nkben\\AppData\\Local\\Programs\\Python\\Python36\\lib\\site-packages\\keras\\backend\\tensorflow_backend.py:973: The name tf.assign is deprecated. Please use tf.compat.v1.assign instead.\n",
      "\n"
     ]
    }
   ],
   "source": [
    "CNN_A=load_model('./best_models/ModelA_66,39_-1,06val_68,68_-1,02test.h5')"
   ]
  },
  {
   "cell_type": "code",
   "execution_count": 15,
   "metadata": {
    "colab": {
     "base_uri": "https://localhost:8080/",
     "height": 68
    },
    "colab_type": "code",
    "id": "-i_D7Bgt1fAo",
    "outputId": "9d50ecd2-1e84-4d62-8ba8-7cc8aadf70ce"
   },
   "outputs": [
    {
     "name": "stdout",
     "output_type": "stream",
     "text": [
      "3589/3589 [==============================] - 13s 4ms/step\n",
      "3589/3589 [==============================] - 3s 930us/step\n",
      "Model A validation accuracy : 0.6639732516187252 , test accuracy : 0.6868208414932319\n"
     ]
    }
   ],
   "source": [
    "#Validation set accuracy\n",
    "_, accuracyA_val = CNN_A.evaluate(X_val, y_val, batch_size=64)\n",
    "_, accuracyA_test = CNN_A.evaluate(X_test, y_test, batch_size=64)\n",
    "\n",
    "print('Model A validation accuracy : {} , test accuracy : {}'.format(accuracyA_val, accuracyA_test))"
   ]
  },
  {
   "cell_type": "markdown",
   "metadata": {
    "colab_type": "text",
    "id": "xmnpYshk2Jjx"
   },
   "source": [
    "# Model B"
   ]
  },
  {
   "cell_type": "code",
   "execution_count": 16,
   "metadata": {
    "colab": {},
    "colab_type": "code",
    "id": "ha_4LKhv1zVl"
   },
   "outputs": [],
   "source": [
    "#Model B\n",
    "def model_B(input_layer):\n",
    "    B = bloc_conv(input_layer,n_conv_layer=3,n_filter=96,k_size=3)\n",
    "    B = bloc_conv(B,n_conv_layer=3,n_filter=192,k_size=3)\n",
    "    B = bloc_conv(B,n_conv_layer=2,n_filter=192,k_size=3,batch_norm =False,maxpool =True, drop=True) \n",
    "    B = bloc_conv(B,n_conv_layer=1,n_filter=256,k_size=1,batch_norm =False, maxpool =False,drop=False) \n",
    "    B = bloc_conv(B,n_conv_layer=1,n_filter=7,k_size=1,batch_norm =True, maxpool =False,drop=False) \n",
    "    B = GlobalAveragePooling2D()(B)\n",
    "    B = Activation(activation='softmax')(B)\n",
    "    B = Model(input_layer, B, name='MODEL_B')\n",
    "    \n",
    "    return B\n",
    "\n",
    "CNN_B = model_B(input_layer)"
   ]
  },
  {
   "cell_type": "code",
   "execution_count": 17,
   "metadata": {
    "colab": {
     "base_uri": "https://localhost:8080/",
     "height": 901
    },
    "colab_type": "code",
    "id": "-H5nQ8U03rKn",
    "outputId": "7e12641d-fee2-4235-a350-69656cb80748"
   },
   "outputs": [
    {
     "name": "stdout",
     "output_type": "stream",
     "text": [
      "_________________________________________________________________\n",
      "Layer (type)                 Output Shape              Param #   \n",
      "=================================================================\n",
      "input_1 (InputLayer)         (None, 48, 48, 1)         0         \n",
      "_________________________________________________________________\n",
      "conv2d_10 (Conv2D)           (None, 48, 48, 96)        960       \n",
      "_________________________________________________________________\n",
      "conv2d_11 (Conv2D)           (None, 48, 48, 96)        83040     \n",
      "_________________________________________________________________\n",
      "conv2d_12 (Conv2D)           (None, 48, 48, 96)        83040     \n",
      "_________________________________________________________________\n",
      "batch_normalization_4 (Batch (None, 48, 48, 96)        384       \n",
      "_________________________________________________________________\n",
      "max_pooling2d_3 (MaxPooling2 (None, 23, 23, 96)        0         \n",
      "_________________________________________________________________\n",
      "dropout_3 (Dropout)          (None, 23, 23, 96)        0         \n",
      "_________________________________________________________________\n",
      "conv2d_13 (Conv2D)           (None, 23, 23, 192)       166080    \n",
      "_________________________________________________________________\n",
      "conv2d_14 (Conv2D)           (None, 23, 23, 192)       331968    \n",
      "_________________________________________________________________\n",
      "conv2d_15 (Conv2D)           (None, 23, 23, 192)       331968    \n",
      "_________________________________________________________________\n",
      "batch_normalization_5 (Batch (None, 23, 23, 192)       768       \n",
      "_________________________________________________________________\n",
      "max_pooling2d_4 (MaxPooling2 (None, 11, 11, 192)       0         \n",
      "_________________________________________________________________\n",
      "dropout_4 (Dropout)          (None, 11, 11, 192)       0         \n",
      "_________________________________________________________________\n",
      "conv2d_16 (Conv2D)           (None, 11, 11, 192)       331968    \n",
      "_________________________________________________________________\n",
      "conv2d_17 (Conv2D)           (None, 11, 11, 192)       331968    \n",
      "_________________________________________________________________\n",
      "max_pooling2d_5 (MaxPooling2 (None, 5, 5, 192)         0         \n",
      "_________________________________________________________________\n",
      "dropout_5 (Dropout)          (None, 5, 5, 192)         0         \n",
      "_________________________________________________________________\n",
      "conv2d_18 (Conv2D)           (None, 5, 5, 256)         49408     \n",
      "_________________________________________________________________\n",
      "conv2d_19 (Conv2D)           (None, 5, 5, 7)           1799      \n",
      "_________________________________________________________________\n",
      "batch_normalization_6 (Batch (None, 5, 5, 7)           28        \n",
      "_________________________________________________________________\n",
      "global_average_pooling2d_2 ( (None, 7)                 0         \n",
      "_________________________________________________________________\n",
      "activation_2 (Activation)    (None, 7)                 0         \n",
      "=================================================================\n",
      "Total params: 1,713,379\n",
      "Trainable params: 1,712,789\n",
      "Non-trainable params: 590\n",
      "_________________________________________________________________\n"
     ]
    }
   ],
   "source": [
    "CNN_B.summary()"
   ]
  },
  {
   "cell_type": "code",
   "execution_count": 18,
   "metadata": {
    "colab": {
     "base_uri": "https://localhost:8080/",
     "height": 54
    },
    "colab_type": "code",
    "id": "AsRoeemk3-3T",
    "outputId": "36473ea0-2914-4839-86d5-374d61caa255"
   },
   "outputs": [
    {
     "data": {
      "text/plain": [
       "\" (to Train)\\nlr_reducer = ReduceLROnPlateau(monitor='val_loss', factor=0.9, patience=3, verbose=1)\\nearly_stopper = EarlyStopping(monitor='val_loss', min_delta=0, patience=8, verbose=1, mode='auto')\\ncheckpoint = ModelCheckpoint('./weights/best_modelB', monitor='val_loss', verbose=1, save_weights_only=True, save_best_only=True, mode='auto', period=1)\\nCNN_B.fit(X_train, y_train, batch_size=64, epochs=100, verbose=1, \\n                        shuffle=True,callbacks=[lr_reducer, early_stopper, checkpoint], \\n                        validation_data=(X_val,y_val))\\n\""
      ]
     },
     "execution_count": 18,
     "metadata": {},
     "output_type": "execute_result"
    }
   ],
   "source": [
    "CNN_B.compile(loss=categorical_crossentropy, optimizer=Adam(lr=0.001, beta_1=0.9, beta_2=0.999, epsilon=1e-7), metrics=['acc']) \n",
    "\n",
    "''' (to Train)\n",
    "lr_reducer = ReduceLROnPlateau(monitor='val_loss', factor=0.9, patience=3, verbose=1)\n",
    "early_stopper = EarlyStopping(monitor='val_loss', min_delta=0, patience=8, verbose=1, mode='auto')\n",
    "checkpoint = ModelCheckpoint('./weights/best_modelB', monitor='val_loss', verbose=1, save_weights_only=True, save_best_only=True, mode='auto', period=1)\n",
    "CNN_B.fit(X_train, y_train, batch_size=64, epochs=100, verbose=1, \n",
    "                        shuffle=True,callbacks=[lr_reducer, early_stopper, checkpoint], \n",
    "                        validation_data=(X_val,y_val))\n",
    "'''"
   ]
  },
  {
   "cell_type": "code",
   "execution_count": 21,
   "metadata": {
    "colab": {},
    "colab_type": "code",
    "id": "_AjprHsg3tCt"
   },
   "outputs": [],
   "source": [
    "CNN_B=load_model('./best_models/ModelB_65,75_-1,07val_67,48_-1,00test.h5')\n"
   ]
  },
  {
   "cell_type": "code",
   "execution_count": 22,
   "metadata": {
    "colab": {
     "base_uri": "https://localhost:8080/",
     "height": 68
    },
    "colab_type": "code",
    "id": "QFxt4m824EpK",
    "outputId": "634c2717-de91-4a3a-a68a-3ecc9a0fee9a"
   },
   "outputs": [
    {
     "name": "stdout",
     "output_type": "stream",
     "text": [
      "3589/3589 [==============================] - 4s 1ms/step\n",
      "3589/3589 [==============================] - 3s 946us/step\n",
      "Model B validation accuracy : 0.6575647812802734 , test accuracy : 0.6748397882584577\n"
     ]
    }
   ],
   "source": [
    "#Validation set accuracy\n",
    "_, accuracyB_val = CNN_B.evaluate(X_val, y_val, batch_size=64)\n",
    "_, accuracyB_test = CNN_B.evaluate(X_test, y_test, batch_size=64)\n",
    "\n",
    "print('Model B validation accuracy : {} , test accuracy : {}'.format(accuracyB_val, accuracyB_test))"
   ]
  },
  {
   "cell_type": "markdown",
   "metadata": {
    "colab_type": "text",
    "id": "nj1yaQk44ymp"
   },
   "source": [
    "# Model C"
   ]
  },
  {
   "cell_type": "code",
   "execution_count": 23,
   "metadata": {
    "colab": {},
    "colab_type": "code",
    "id": "yQtc8Id84RQ0"
   },
   "outputs": [],
   "source": [
    "#Model C\n",
    "def model_C(input_layer):\n",
    "    C=bloc_conv(input_layer,n_conv_layer=3,n_filter=96,k_size=3)\n",
    "    C=bloc_conv(C,n_conv_layer=3,n_filter=192,k_size=3)\n",
    "    C=bloc_conv(C,n_conv_layer=2,n_filter=192,k_size=3,batch_norm =False,maxpool =True, drop=True) \n",
    "\n",
    "    C = bloc_conv(C,n_conv_layer=1,n_filter=256,k_size=3,batch_norm =False, maxpool =False, drop=False) \n",
    "    C = bloc_conv(C,n_conv_layer=1,n_filter=256,k_size=1,batch_norm =False, maxpool =False,drop= False) \n",
    "    C = bloc_conv(C,n_conv_layer=1,n_filter=7,k_size=1,batch_norm =True, maxpool =False,drop=False) \n",
    "    C = GlobalAveragePooling2D()(C)\n",
    "    C = Activation(activation='softmax')(C)\n",
    "    C = Model(input_layer, C, name='MODEL_C')\n",
    "    \n",
    "\n",
    "    return C\n",
    "\n",
    "CNN_C = model_C(input_layer)"
   ]
  },
  {
   "cell_type": "code",
   "execution_count": 24,
   "metadata": {
    "colab": {
     "base_uri": "https://localhost:8080/",
     "height": 935
    },
    "colab_type": "code",
    "id": "LxbccJbc5aLW",
    "outputId": "bd6a27d3-5762-4553-bcfe-188c73c64e4a"
   },
   "outputs": [
    {
     "name": "stdout",
     "output_type": "stream",
     "text": [
      "_________________________________________________________________\n",
      "Layer (type)                 Output Shape              Param #   \n",
      "=================================================================\n",
      "input_1 (InputLayer)         (None, 48, 48, 1)         0         \n",
      "_________________________________________________________________\n",
      "conv2d_20 (Conv2D)           (None, 48, 48, 96)        960       \n",
      "_________________________________________________________________\n",
      "conv2d_21 (Conv2D)           (None, 48, 48, 96)        83040     \n",
      "_________________________________________________________________\n",
      "conv2d_22 (Conv2D)           (None, 48, 48, 96)        83040     \n",
      "_________________________________________________________________\n",
      "batch_normalization_7 (Batch (None, 48, 48, 96)        384       \n",
      "_________________________________________________________________\n",
      "max_pooling2d_6 (MaxPooling2 (None, 23, 23, 96)        0         \n",
      "_________________________________________________________________\n",
      "dropout_6 (Dropout)          (None, 23, 23, 96)        0         \n",
      "_________________________________________________________________\n",
      "conv2d_23 (Conv2D)           (None, 23, 23, 192)       166080    \n",
      "_________________________________________________________________\n",
      "conv2d_24 (Conv2D)           (None, 23, 23, 192)       331968    \n",
      "_________________________________________________________________\n",
      "conv2d_25 (Conv2D)           (None, 23, 23, 192)       331968    \n",
      "_________________________________________________________________\n",
      "batch_normalization_8 (Batch (None, 23, 23, 192)       768       \n",
      "_________________________________________________________________\n",
      "max_pooling2d_7 (MaxPooling2 (None, 11, 11, 192)       0         \n",
      "_________________________________________________________________\n",
      "dropout_7 (Dropout)          (None, 11, 11, 192)       0         \n",
      "_________________________________________________________________\n",
      "conv2d_26 (Conv2D)           (None, 11, 11, 192)       331968    \n",
      "_________________________________________________________________\n",
      "conv2d_27 (Conv2D)           (None, 11, 11, 192)       331968    \n",
      "_________________________________________________________________\n",
      "max_pooling2d_8 (MaxPooling2 (None, 5, 5, 192)         0         \n",
      "_________________________________________________________________\n",
      "dropout_8 (Dropout)          (None, 5, 5, 192)         0         \n",
      "_________________________________________________________________\n",
      "conv2d_28 (Conv2D)           (None, 5, 5, 256)         442624    \n",
      "_________________________________________________________________\n",
      "conv2d_29 (Conv2D)           (None, 5, 5, 256)         65792     \n",
      "_________________________________________________________________\n",
      "conv2d_30 (Conv2D)           (None, 5, 5, 7)           1799      \n",
      "_________________________________________________________________\n",
      "batch_normalization_9 (Batch (None, 5, 5, 7)           28        \n",
      "_________________________________________________________________\n",
      "global_average_pooling2d_3 ( (None, 7)                 0         \n",
      "_________________________________________________________________\n",
      "activation_3 (Activation)    (None, 7)                 0         \n",
      "=================================================================\n",
      "Total params: 2,172,387\n",
      "Trainable params: 2,171,797\n",
      "Non-trainable params: 590\n",
      "_________________________________________________________________\n"
     ]
    }
   ],
   "source": [
    "CNN_C.summary()"
   ]
  },
  {
   "cell_type": "code",
   "execution_count": 25,
   "metadata": {
    "colab": {
     "base_uri": "https://localhost:8080/",
     "height": 54
    },
    "colab_type": "code",
    "id": "iPqZlgsX5cPO",
    "outputId": "f950145f-7547-43a3-cf62-a19eed00c153"
   },
   "outputs": [
    {
     "data": {
      "text/plain": [
       "\" (to Train)\\nlr_reducer = ReduceLROnPlateau(monitor='val_loss', factor=0.9, patience=3, verbose=1)\\nearly_stopper = EarlyStopping(monitor='val_loss', min_delta=0, patience=8, verbose=1, mode='auto')\\ncheckpoint = ModelCheckpoint('./weights/best_modelC', monitor='val_loss', verbose=1, save_weights_only=True, save_best_only=True, mode='auto', period=1)\\nCNN_C.fit(X_train, y_train, batch_size=64, epochs=100, verbose=1, \\n                        shuffle=True,callbacks=[lr_reducer, early_stopper, checkpoint], \\n                        validation_data=(X_val,y_val))\\n\""
      ]
     },
     "execution_count": 25,
     "metadata": {},
     "output_type": "execute_result"
    }
   ],
   "source": [
    "CNN_C.compile(loss=categorical_crossentropy, optimizer=Adam(lr=0.001, beta_1=0.9, beta_2=0.999, epsilon=1e-7), metrics=['acc']) \n",
    "\n",
    "''' (to Train)\n",
    "lr_reducer = ReduceLROnPlateau(monitor='val_loss', factor=0.9, patience=3, verbose=1)\n",
    "early_stopper = EarlyStopping(monitor='val_loss', min_delta=0, patience=8, verbose=1, mode='auto')\n",
    "checkpoint = ModelCheckpoint('./weights/best_modelC', monitor='val_loss', verbose=1, save_weights_only=True, save_best_only=True, mode='auto', period=1)\n",
    "CNN_C.fit(X_train, y_train, batch_size=64, epochs=100, verbose=1, \n",
    "                        shuffle=True,callbacks=[lr_reducer, early_stopper, checkpoint], \n",
    "                        validation_data=(X_val,y_val))\n",
    "'''"
   ]
  },
  {
   "cell_type": "code",
   "execution_count": 26,
   "metadata": {
    "colab": {},
    "colab_type": "code",
    "id": "eFdNI42D5rNP"
   },
   "outputs": [],
   "source": [
    "CNN_C=load_model('./best_models/ModelC_65,51_-1,03val_68,15_-0.97test.h5')\n"
   ]
  },
  {
   "cell_type": "code",
   "execution_count": 27,
   "metadata": {
    "colab": {
     "base_uri": "https://localhost:8080/",
     "height": 68
    },
    "colab_type": "code",
    "id": "qFO33D5j5wIt",
    "outputId": "d26c50db-399f-4de9-8b3b-32000db13dbb"
   },
   "outputs": [
    {
     "name": "stdout",
     "output_type": "stream",
     "text": [
      "3589/3589 [==============================] - 4s 1ms/step\n",
      "3589/3589 [==============================] - 3s 961us/step\n",
      "Model C validation accuracy : 0.6550571189912523 , test accuracy : 0.6815268877456699\n"
     ]
    }
   ],
   "source": [
    "#Validation set accuracy\n",
    "_, accuracyC_val = CNN_C.evaluate(X_val, y_val, batch_size=64)\n",
    "_, accuracyC_test = CNN_C.evaluate(X_test, y_test, batch_size=64)\n",
    "\n",
    "print('Model C validation accuracy : {} , test accuracy : {}'.format(accuracyC_val, accuracyC_test))"
   ]
  },
  {
   "cell_type": "markdown",
   "metadata": {
    "colab_type": "text",
    "id": "ho29oQgx6CHh"
   },
   "source": [
    "# Model D"
   ]
  },
  {
   "cell_type": "code",
   "execution_count": 28,
   "metadata": {
    "colab": {},
    "colab_type": "code",
    "id": "K08IzYpu55Oo"
   },
   "outputs": [],
   "source": [
    "#Model D\n",
    "def model_D(input_layer):\n",
    "    D = bloc_conv(input_layer,n_conv_layer=3,n_filter=96,k_size=3)\n",
    "\n",
    "    D = bloc_conv(D,n_conv_layer=3,n_filter=192,k_size=3)\n",
    "\n",
    "    D = bloc_conv(D,n_conv_layer=2,n_filter=192,k_size=3,batch_norm =False,maxpool =True, drop=True) \n",
    "\n",
    "    D = bloc_conv(D,n_conv_layer=2,n_filter=256,k_size=3,batch_norm =False, maxpool =False, drop=True) \n",
    "\n",
    "    D = bloc_conv(D,n_conv_layer=1,n_filter=512,k_size=1,batch_norm =False, maxpool =False,drop= False) \n",
    "\n",
    "    D = bloc_conv(D,n_conv_layer=1,n_filter=7,k_size=1,batch_norm =True, maxpool =False,drop=False) \n",
    "\n",
    "    D = GlobalAveragePooling2D()(D)\n",
    "    D = Activation(activation='softmax')(D)\n",
    "    D = Model(input_layer, D, name='MODEL_D')\n",
    "    \n",
    "    return D\n",
    "\n",
    "CNN_D = model_D(input_layer)"
   ]
  },
  {
   "cell_type": "code",
   "execution_count": 29,
   "metadata": {
    "colab": {
     "base_uri": "https://localhost:8080/",
     "height": 1000
    },
    "colab_type": "code",
    "id": "hJ5n3RLY6rag",
    "outputId": "062622fe-2a57-4046-c799-c4d731167d76"
   },
   "outputs": [
    {
     "name": "stdout",
     "output_type": "stream",
     "text": [
      "_________________________________________________________________\n",
      "Layer (type)                 Output Shape              Param #   \n",
      "=================================================================\n",
      "input_1 (InputLayer)         (None, 48, 48, 1)         0         \n",
      "_________________________________________________________________\n",
      "conv2d_31 (Conv2D)           (None, 48, 48, 96)        960       \n",
      "_________________________________________________________________\n",
      "conv2d_32 (Conv2D)           (None, 48, 48, 96)        83040     \n",
      "_________________________________________________________________\n",
      "conv2d_33 (Conv2D)           (None, 48, 48, 96)        83040     \n",
      "_________________________________________________________________\n",
      "batch_normalization_10 (Batc (None, 48, 48, 96)        384       \n",
      "_________________________________________________________________\n",
      "max_pooling2d_9 (MaxPooling2 (None, 23, 23, 96)        0         \n",
      "_________________________________________________________________\n",
      "dropout_9 (Dropout)          (None, 23, 23, 96)        0         \n",
      "_________________________________________________________________\n",
      "conv2d_34 (Conv2D)           (None, 23, 23, 192)       166080    \n",
      "_________________________________________________________________\n",
      "conv2d_35 (Conv2D)           (None, 23, 23, 192)       331968    \n",
      "_________________________________________________________________\n",
      "conv2d_36 (Conv2D)           (None, 23, 23, 192)       331968    \n",
      "_________________________________________________________________\n",
      "batch_normalization_11 (Batc (None, 23, 23, 192)       768       \n",
      "_________________________________________________________________\n",
      "max_pooling2d_10 (MaxPooling (None, 11, 11, 192)       0         \n",
      "_________________________________________________________________\n",
      "dropout_10 (Dropout)         (None, 11, 11, 192)       0         \n",
      "_________________________________________________________________\n",
      "conv2d_37 (Conv2D)           (None, 11, 11, 192)       331968    \n",
      "_________________________________________________________________\n",
      "conv2d_38 (Conv2D)           (None, 11, 11, 192)       331968    \n",
      "_________________________________________________________________\n",
      "max_pooling2d_11 (MaxPooling (None, 5, 5, 192)         0         \n",
      "_________________________________________________________________\n",
      "dropout_11 (Dropout)         (None, 5, 5, 192)         0         \n",
      "_________________________________________________________________\n",
      "conv2d_39 (Conv2D)           (None, 5, 5, 256)         442624    \n",
      "_________________________________________________________________\n",
      "conv2d_40 (Conv2D)           (None, 5, 5, 256)         590080    \n",
      "_________________________________________________________________\n",
      "dropout_12 (Dropout)         (None, 5, 5, 256)         0         \n",
      "_________________________________________________________________\n",
      "conv2d_41 (Conv2D)           (None, 5, 5, 512)         131584    \n",
      "_________________________________________________________________\n",
      "conv2d_42 (Conv2D)           (None, 5, 5, 7)           3591      \n",
      "_________________________________________________________________\n",
      "batch_normalization_12 (Batc (None, 5, 5, 7)           28        \n",
      "_________________________________________________________________\n",
      "global_average_pooling2d_4 ( (None, 7)                 0         \n",
      "_________________________________________________________________\n",
      "activation_4 (Activation)    (None, 7)                 0         \n",
      "=================================================================\n",
      "Total params: 2,830,051\n",
      "Trainable params: 2,829,461\n",
      "Non-trainable params: 590\n",
      "_________________________________________________________________\n"
     ]
    }
   ],
   "source": [
    "CNN_D.summary()"
   ]
  },
  {
   "cell_type": "code",
   "execution_count": 30,
   "metadata": {
    "colab": {
     "base_uri": "https://localhost:8080/",
     "height": 54
    },
    "colab_type": "code",
    "id": "AjqdbsNZ7O-w",
    "outputId": "cbaf324b-6602-4a29-8719-8fdb6d28f4fa"
   },
   "outputs": [
    {
     "data": {
      "text/plain": [
       "\" (to Train)\\nlr_reducer = ReduceLROnPlateau(monitor='val_loss', factor=0.9, patience=3, verbose=1)\\nearly_stopper = EarlyStopping(monitor='val_loss', min_delta=0, patience=8, verbose=1, mode='auto')\\ncheckpoint = ModelCheckpoint('./weights/best_modelD', monitor='val_loss', verbose=1, save_weights_only=True, save_best_only=True, mode='auto', period=1)\\nCNN_D.fit(X_train, y_train, batch_size=64, epochs=100, verbose=1, \\n                        shuffle=True,callbacks=[lr_reducer, early_stopper, checkpoint], \\n                        validation_data=(X_val,y_val))\\n\""
      ]
     },
     "execution_count": 30,
     "metadata": {},
     "output_type": "execute_result"
    }
   ],
   "source": [
    "CNN_D.compile(loss=categorical_crossentropy, optimizer=Adam(lr=0.001, beta_1=0.9, beta_2=0.999, epsilon=1e-7), metrics=['acc']) \n",
    "\n",
    "''' (to Train)\n",
    "lr_reducer = ReduceLROnPlateau(monitor='val_loss', factor=0.9, patience=3, verbose=1)\n",
    "early_stopper = EarlyStopping(monitor='val_loss', min_delta=0, patience=8, verbose=1, mode='auto')\n",
    "checkpoint = ModelCheckpoint('./weights/best_modelD', monitor='val_loss', verbose=1, save_weights_only=True, save_best_only=True, mode='auto', period=1)\n",
    "CNN_D.fit(X_train, y_train, batch_size=64, epochs=100, verbose=1, \n",
    "                        shuffle=True,callbacks=[lr_reducer, early_stopper, checkpoint], \n",
    "                        validation_data=(X_val,y_val))\n",
    "'''"
   ]
  },
  {
   "cell_type": "code",
   "execution_count": 31,
   "metadata": {
    "colab": {},
    "colab_type": "code",
    "id": "tQeHUTlZ_ozc"
   },
   "outputs": [],
   "source": [
    "CNN_D=load_model('./best_models/ModelD_67,26_-1,07val_68,15_-0.99test.h5')"
   ]
  },
  {
   "cell_type": "code",
   "execution_count": 32,
   "metadata": {
    "colab": {
     "base_uri": "https://localhost:8080/",
     "height": 68
    },
    "colab_type": "code",
    "id": "FKTMwIRx_vUY",
    "outputId": "3130cdee-87df-44f1-9e4a-5d5ea114924b"
   },
   "outputs": [
    {
     "name": "stdout",
     "output_type": "stream",
     "text": [
      "3589/3589 [==============================] - 4s 1ms/step\n",
      "3589/3589 [==============================] - 4s 995us/step\n",
      "Model D validation accuracy : 0.6726107550932857 , test accuracy : 0.6815268877456699\n"
     ]
    }
   ],
   "source": [
    "#Validation set accuracy\n",
    "_, accuracyD_val = CNN_D.evaluate(X_val, y_val, batch_size=64)\n",
    "_, accuracyD_test = CNN_D.evaluate(X_test, y_test, batch_size=64)\n",
    "\n",
    "print('Model D validation accuracy : {} , test accuracy : {}'.format(accuracyD_val, accuracyD_test))"
   ]
  },
  {
   "cell_type": "markdown",
   "metadata": {
    "colab_type": "text",
    "id": "iwx_Qq9R__6f"
   },
   "source": [
    "# Ensembling"
   ]
  },
  {
   "cell_type": "code",
   "execution_count": 35,
   "metadata": {
    "colab": {},
    "colab_type": "code",
    "id": "e2XIhbqD_48I"
   },
   "outputs": [],
   "source": [
    "def ensemble_average(models):\n",
    "    \n",
    "    outputs_val = [model.predict(X_val) for model in models]\n",
    "    ensemble_prediction_val=0\n",
    "    for pred in range(0,len(models)): \n",
    "      ensemble_prediction_val +=outputs_val[pred]\n",
    "    ensemble_prediction_val /=len(models)\n",
    "    good_pred_val=0\n",
    "    y_valset=[]\n",
    "    y_predictionval=[]\n",
    "    \n",
    "    for i in range(0,len(ensemble_prediction_val)):\n",
    "      y_valset.append(np.argmax(y_val[i]))\n",
    "      y_predictionval.append(np.argmax(ensemble_prediction_val[i]))\n",
    "      if np.argmax(ensemble_prediction_val[i])==np.argmax(y_val[i]):\n",
    "        good_pred_val=good_pred_val+1\n",
    "      else:\n",
    "        pass\n",
    "    \n",
    "    accuracy_val=good_pred_val/len(ensemble_prediction_val)\n",
    "    \n",
    "    \n",
    "    outputs_test = [model.predict(X_test) for model in models]\n",
    "    ensemble_prediction_test=0\n",
    "    for pred in range(0,len(models)): \n",
    "      ensemble_prediction_test +=outputs_test[pred]\n",
    "    ensemble_prediction_test /=len(models)\n",
    "    good_pred_test=0\n",
    "    y_testset=[]\n",
    "    y_predictiontest=[]\n",
    "    \n",
    "    for i in range(0,len(ensemble_prediction_test)):\n",
    "      y_testset.append(np.argmax(y_test[i]))\n",
    "      y_predictiontest.append(np.argmax(ensemble_prediction_test[i]))\n",
    "      if np.argmax(ensemble_prediction_test[i])==np.argmax(y_test[i]):\n",
    "        good_pred_test=good_pred_test+1\n",
    "      else:\n",
    "        pass\n",
    "    \n",
    "    accuracy_test=good_pred_test/len(ensemble_prediction_test)\n",
    "    return accuracy_val,accuracy_test,y_valset,y_testset,y_predictionval,y_predictiontest"
   ]
  },
  {
   "cell_type": "code",
   "execution_count": 36,
   "metadata": {
    "colab": {},
    "colab_type": "code",
    "id": "gchz9TN8AHDQ"
   },
   "outputs": [],
   "source": [
    "def ensemble_max(models):\n",
    "    \n",
    "    outputs_val = [model.predict(X_val) for model in models]\n",
    "    \n",
    "    good_pred_val=0\n",
    "    y_valset=[]\n",
    "    y_predictionval=[]\n",
    "    \n",
    "    for i in range(0,len(y_val)):\n",
    "      max_predictions=[]\n",
    "      max_predictions_indexes=[]\n",
    "      for m in range(0,len(models)): \n",
    "        max_predictions.append(np.max(outputs_val[m][i]))\n",
    "        max_predictions_indexes.append(np.argmax(outputs_val[m][i]))\n",
    "      y_predictionval.append(max_predictions_indexes[np.argmax(max_predictions)])\n",
    "      \n",
    "      y_valset.append(np.argmax(y_val[i]))\n",
    "      if y_predictionval[i]==y_valset[i]:\n",
    "        good_pred_val=good_pred_val+1\n",
    "      else:\n",
    "        pass\n",
    "    \n",
    "    accuracy_val=good_pred_val/len(y_val)\n",
    "    \n",
    "    \n",
    "    outputs_test = [model.predict(X_test) for model in models]\n",
    "    good_pred_test=0\n",
    "    y_testset=[]\n",
    "    y_predictiontest=[]\n",
    "    \n",
    "    for i in range(0,len(y_test)):\n",
    "      max_predictions=[]\n",
    "      max_predictions_indexes=[]\n",
    "      for m in range(0,len(models)):\n",
    "        \n",
    "        \n",
    "        max_predictions.append(np.max(outputs_test[m][i]))\n",
    "        max_predictions_indexes.append(np.argmax(outputs_test[m][i]))\n",
    "        \n",
    "      y_predictiontest.append(max_predictions_indexes[np.argmax(max_predictions)])\n",
    "      \n",
    "      y_testset.append(np.argmax(y_test[i]))\n",
    "      if y_predictiontest[i]==y_testset[i]:\n",
    "        good_pred_test=good_pred_test+1\n",
    "      else:\n",
    "        pass\n",
    "    \n",
    "    accuracy_test=good_pred_test/len(y_test)\n",
    "    return accuracy_val,accuracy_test,y_valset,y_testset,y_predictionval,y_predictiontest"
   ]
  },
  {
   "cell_type": "code",
   "execution_count": 37,
   "metadata": {
    "colab": {},
    "colab_type": "code",
    "id": "RnDAWt0NAKgK"
   },
   "outputs": [],
   "source": [
    "Model_AB=[CNN_A,CNN_B]\n",
    "Model_AC=[CNN_A,CNN_C]\n",
    "Model_AD=[CNN_A,CNN_D]\n",
    "Model_BC=[CNN_B,CNN_C]\n",
    "Model_BD=[CNN_B,CNN_D]\n",
    "Model_CD=[CNN_C,CNN_D]\n",
    "Model_ABC=[CNN_A,CNN_B,CNN_C]\n",
    "Model_ABD=[CNN_A,CNN_B,CNN_D]\n",
    "Model_BCD=[CNN_B,CNN_C,CNN_D]\n",
    "Model_ACD=[CNN_A,CNN_C,CNN_D]\n",
    "Model_ABCD=[CNN_A,CNN_B,CNN_C,CNN_D]"
   ]
  },
  {
   "cell_type": "code",
   "execution_count": 38,
   "metadata": {
    "colab": {},
    "colab_type": "code",
    "id": "EAFKeZnqBIY9"
   },
   "outputs": [],
   "source": [
    "MODELS = [Model_AB, Model_AC, Model_AD, Model_BC, Model_BD, Model_CD, \n",
    "          Model_ABC, Model_ABD, Model_BCD, Model_ACD, Model_ABCD]\n",
    "\n",
    "MODELS_DESCRIPTION = ['Model_AB', 'Model_AC', 'Model_AD', 'Model_BC', 'Model_BD', 'Model_CD', \n",
    "          'Model_ABC', 'Model_ABD', 'Model_BCD', 'Model_ACD', 'Model_ABCD']"
   ]
  },
  {
   "cell_type": "code",
   "execution_count": 39,
   "metadata": {
    "colab": {
     "base_uri": "https://localhost:8080/",
     "height": 1000
    },
    "colab_type": "code",
    "id": "tOiCyg_IBfop",
    "outputId": "9359084e-db2f-4ec0-8273-e2616d25d06a"
   },
   "outputs": [
    {
     "name": "stdout",
     "output_type": "stream",
     "text": [
      "________________________________\n",
      "Average Strategy Model_AB : \n",
      "Accuracy Val : 68.9607132906102 % | Accuracy Test: 70.46531067149624 %\n",
      "________________________________\n",
      "Maximum Strategy Model_AB : \n",
      "Accuracy Val : 68.65422123154083 % | Accuracy Test : 70.38172192811368 % \n",
      "________________________________\n",
      "________________________________\n",
      "________________________________\n",
      "Average Strategy Model_AC : \n",
      "Accuracy Val : 68.93285037614935 % | Accuracy Test: 70.91111730286987 %\n",
      "________________________________\n",
      "Maximum Strategy Model_AC : \n",
      "Accuracy Val : 68.15268877124548 % | Accuracy Test : 70.96684313179159 % \n",
      "________________________________\n",
      "________________________________\n",
      "________________________________\n",
      "Average Strategy Model_AD : \n",
      "Accuracy Val : 69.76873780997492 % | Accuracy Test: 71.10615770409585 %\n",
      "________________________________\n",
      "Maximum Strategy Model_AD : \n",
      "Accuracy Val : 69.32293117860128 % | Accuracy Test : 70.54889941487879 % \n",
      "________________________________\n",
      "________________________________\n",
      "________________________________\n",
      "Average Strategy Model_BC : \n",
      "Accuracy Val : 68.431317915854 % | Accuracy Test: 70.57676232933964 %\n",
      "________________________________\n",
      "Maximum Strategy Model_BC : \n",
      "Accuracy Val : 68.04123711340206 % | Accuracy Test : 70.04736695458345 % \n",
      "________________________________\n",
      "________________________________\n",
      "________________________________\n",
      "Average Strategy Model_BD : \n",
      "Accuracy Val : 67.45611590972416 % | Accuracy Test: 69.60156032320981 %\n",
      "________________________________\n",
      "Maximum Strategy Model_BD : \n",
      "Accuracy Val : 67.31680133741989 % | Accuracy Test : 69.4343828364447 % \n",
      "________________________________\n",
      "________________________________\n",
      "________________________________\n",
      "Average Strategy Model_CD : \n",
      "Accuracy Val : 68.68208414600167 % | Accuracy Test: 70.07522986904429 %\n",
      "________________________________\n",
      "Maximum Strategy Model_CD : \n",
      "Accuracy Val : 68.04123711340206 % | Accuracy Test : 69.79660072443578 % \n",
      "________________________________\n",
      "________________________________\n",
      "________________________________\n",
      "Average Strategy Model_ABC : \n",
      "Accuracy Val : 69.29506826414043 % | Accuracy Test: 72.47144051267762 %\n",
      "________________________________\n",
      "Maximum Strategy Model_ABC : \n",
      "Accuracy Val : 69.32293117860128 % | Accuracy Test : 71.74700473669546 % \n",
      "________________________________\n",
      "________________________________\n",
      "________________________________\n",
      "Average Strategy Model_ABD : \n",
      "Accuracy Val : 69.40651992198384 % | Accuracy Test: 71.078294789635 %\n",
      "________________________________\n",
      "Maximum Strategy Model_ABD : \n",
      "Accuracy Val : 69.29506826414043 % | Accuracy Test : 70.79966564502647 % \n",
      "________________________________\n",
      "________________________________\n",
      "________________________________\n",
      "Average Strategy Model_BCD : \n",
      "Accuracy Val : 68.87712454722764 % | Accuracy Test: 71.49623850654778 %\n",
      "________________________________\n",
      "Maximum Strategy Model_BCD : \n",
      "Accuracy Val : 68.15268877124548 % | Accuracy Test : 70.68821398718306 % \n",
      "________________________________\n",
      "________________________________\n",
      "________________________________\n",
      "Average Strategy Model_ACD : \n",
      "Accuracy Val : 69.68514906659237 % | Accuracy Test: 71.6634159933129 %\n",
      "________________________________\n",
      "Maximum Strategy Model_ACD : \n",
      "Accuracy Val : 69.51797157982725 % | Accuracy Test : 71.078294789635 % \n",
      "________________________________\n",
      "________________________________\n",
      "________________________________\n",
      "Average Strategy Model_ABCD : \n",
      "Accuracy Val : 69.99164112566174 % | Accuracy Test: 72.13708553914739 %\n",
      "________________________________\n",
      "Maximum Strategy Model_ABCD : \n",
      "Accuracy Val : 69.4343828364447 % | Accuracy Test : 71.55196433546949 % \n",
      "________________________________\n",
      "________________________________\n"
     ]
    }
   ],
   "source": [
    "i=0\n",
    "for model in MODELS : \n",
    "  print(\"________________________________\")\n",
    "  print('Average Strategy {} : '.format(MODELS_DESCRIPTION[i]))\n",
    "  acc_val_avg,acc_test_avg,y_val_avg,y_test_avg,y_pred_val_avg,y_pred_test_avg=ensemble_average(model)  \n",
    "  print('Accuracy Val : {} % | Accuracy Test: {} %'.format(acc_val_avg*100,acc_test_avg*100))\n",
    "  print(\"________________________________\")\n",
    "  print('Maximum Strategy {} : '.format(MODELS_DESCRIPTION[i]))\n",
    "  acc_val_max,acc_test_max,y_val_max,y_test_max,y_pred_val_max,y_pred_test_max=ensemble_max(model)  \n",
    "  print('Accuracy Val : {} % | Accuracy Test : {} % '.format(acc_val_max*100,acc_test_max*100))\n",
    "  print(\"________________________________\")\n",
    "  print(\"________________________________\")\n",
    "  i+=1\n"
   ]
  },
  {
   "cell_type": "code",
   "execution_count": null,
   "metadata": {
    "colab": {},
    "colab_type": "code",
    "id": "NJXSKGC-Bjzc"
   },
   "outputs": [],
   "source": []
  }
 ],
 "metadata": {
  "accelerator": "GPU",
  "colab": {
   "collapsed_sections": [],
   "name": "Shared_Code_with_Asif_Mahmud",
   "provenance": []
  },
  "kernelspec": {
   "display_name": "Python 3",
   "language": "python",
   "name": "python3"
  },
  "language_info": {
   "codemirror_mode": {
    "name": "ipython",
    "version": 3
   },
   "file_extension": ".py",
   "mimetype": "text/x-python",
   "name": "python",
   "nbconvert_exporter": "python",
   "pygments_lexer": "ipython3",
   "version": "3.6.5"
  }
 },
 "nbformat": 4,
 "nbformat_minor": 1
}
